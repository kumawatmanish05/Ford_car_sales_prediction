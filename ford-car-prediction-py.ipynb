{
 "cells": [
  {
   "cell_type": "code",
   "execution_count": 1,
   "id": "f7762d0c",
   "metadata": {
    "_cell_guid": "b1076dfc-b9ad-4769-8c92-a6c4dae69d19",
    "_uuid": "8f2839f25d086af736a60e9eeb907d3b93b6e0e5",
    "execution": {
     "iopub.execute_input": "2025-08-25T06:23:28.657699Z",
     "iopub.status.busy": "2025-08-25T06:23:28.657168Z",
     "iopub.status.idle": "2025-08-25T06:23:30.675745Z",
     "shell.execute_reply": "2025-08-25T06:23:30.674801Z"
    },
    "papermill": {
     "duration": 2.025614,
     "end_time": "2025-08-25T06:23:30.677582",
     "exception": false,
     "start_time": "2025-08-25T06:23:28.651968",
     "status": "completed"
    },
    "tags": []
   },
   "outputs": [
    {
     "name": "stdout",
     "output_type": "stream",
     "text": [
      "/kaggle/input/ford-car-price-prediction/ford.csv\n"
     ]
    }
   ],
   "source": [
    "# This Python 3 environment comes with many helpful analytics libraries installed\n",
    "# It is defined by the kaggle/python Docker image: https://github.com/kaggle/docker-python\n",
    "# For example, here's several helpful packages to load\n",
    "\n",
    "import numpy as np # linear algebra\n",
    "import pandas as pd # data processing, CSV file I/O (e.g. pd.read_csv)\n",
    "\n",
    "# Input data files are available in the read-only \"../input/\" directory\n",
    "# For example, running this (by clicking run or pressing Shift+Enter) will list all files under the input directory\n",
    "\n",
    "import os\n",
    "for dirname, _, filenames in os.walk('/kaggle/input'):\n",
    "    for filename in filenames:\n",
    "        print(os.path.join(dirname, filename))\n",
    "\n",
    "# You can write up to 20GB to the current directory (/kaggle/working/) that gets preserved as output when you create a version using \"Save & Run All\" \n",
    "# You can also write temporary files to /kaggle/temp/, but they won't be saved outside of the current session"
   ]
  },
  {
   "cell_type": "markdown",
   "id": "d424041f",
   "metadata": {
    "papermill": {
     "duration": 0.002831,
     "end_time": "2025-08-25T06:23:30.684088",
     "exception": false,
     "start_time": "2025-08-25T06:23:30.681257",
     "status": "completed"
    },
    "tags": []
   },
   "source": []
  },
  {
   "cell_type": "markdown",
   "id": "655ceae6",
   "metadata": {
    "papermill": {
     "duration": 0.002717,
     "end_time": "2025-08-25T06:23:30.689748",
     "exception": false,
     "start_time": "2025-08-25T06:23:30.687031",
     "status": "completed"
    },
    "tags": []
   },
   "source": [
    "**EDA**"
   ]
  },
  {
   "cell_type": "code",
   "execution_count": 2,
   "id": "c15cadc1",
   "metadata": {
    "execution": {
     "iopub.execute_input": "2025-08-25T06:23:30.696953Z",
     "iopub.status.busy": "2025-08-25T06:23:30.696426Z",
     "iopub.status.idle": "2025-08-25T06:23:32.676908Z",
     "shell.execute_reply": "2025-08-25T06:23:32.675782Z"
    },
    "papermill": {
     "duration": 1.986286,
     "end_time": "2025-08-25T06:23:32.678893",
     "exception": false,
     "start_time": "2025-08-25T06:23:30.692607",
     "status": "completed"
    },
    "tags": []
   },
   "outputs": [],
   "source": [
    "import pandas as pd \n",
    "import numpy as np\n",
    "import seaborn as sns \n",
    "import matplotlib.pyplot as plt \n",
    "import warnings \n",
    "warnings.filterwarnings('ignore')"
   ]
  },
  {
   "cell_type": "code",
   "execution_count": 3,
   "id": "ecca93d9",
   "metadata": {
    "execution": {
     "iopub.execute_input": "2025-08-25T06:23:32.687087Z",
     "iopub.status.busy": "2025-08-25T06:23:32.686597Z",
     "iopub.status.idle": "2025-08-25T06:23:32.740229Z",
     "shell.execute_reply": "2025-08-25T06:23:32.739170Z"
    },
    "papermill": {
     "duration": 0.05966,
     "end_time": "2025-08-25T06:23:32.742002",
     "exception": false,
     "start_time": "2025-08-25T06:23:32.682342",
     "status": "completed"
    },
    "tags": []
   },
   "outputs": [],
   "source": [
    "df = pd.read_csv(r\"/kaggle/input/ford-car-price-prediction/ford.csv\")"
   ]
  },
  {
   "cell_type": "code",
   "execution_count": 4,
   "id": "c361ca2f",
   "metadata": {
    "execution": {
     "iopub.execute_input": "2025-08-25T06:23:32.749764Z",
     "iopub.status.busy": "2025-08-25T06:23:32.749448Z",
     "iopub.status.idle": "2025-08-25T06:23:32.777869Z",
     "shell.execute_reply": "2025-08-25T06:23:32.776827Z"
    },
    "papermill": {
     "duration": 0.034388,
     "end_time": "2025-08-25T06:23:32.779527",
     "exception": false,
     "start_time": "2025-08-25T06:23:32.745139",
     "status": "completed"
    },
    "tags": []
   },
   "outputs": [
    {
     "data": {
      "text/html": [
       "<div>\n",
       "<style scoped>\n",
       "    .dataframe tbody tr th:only-of-type {\n",
       "        vertical-align: middle;\n",
       "    }\n",
       "\n",
       "    .dataframe tbody tr th {\n",
       "        vertical-align: top;\n",
       "    }\n",
       "\n",
       "    .dataframe thead th {\n",
       "        text-align: right;\n",
       "    }\n",
       "</style>\n",
       "<table border=\"1\" class=\"dataframe\">\n",
       "  <thead>\n",
       "    <tr style=\"text-align: right;\">\n",
       "      <th></th>\n",
       "      <th>model</th>\n",
       "      <th>year</th>\n",
       "      <th>price</th>\n",
       "      <th>transmission</th>\n",
       "      <th>mileage</th>\n",
       "      <th>fuelType</th>\n",
       "      <th>tax</th>\n",
       "      <th>mpg</th>\n",
       "      <th>engineSize</th>\n",
       "    </tr>\n",
       "  </thead>\n",
       "  <tbody>\n",
       "    <tr>\n",
       "      <th>0</th>\n",
       "      <td>Fiesta</td>\n",
       "      <td>2017</td>\n",
       "      <td>12000</td>\n",
       "      <td>Automatic</td>\n",
       "      <td>15944</td>\n",
       "      <td>Petrol</td>\n",
       "      <td>150</td>\n",
       "      <td>57.7</td>\n",
       "      <td>1.0</td>\n",
       "    </tr>\n",
       "    <tr>\n",
       "      <th>1</th>\n",
       "      <td>Focus</td>\n",
       "      <td>2018</td>\n",
       "      <td>14000</td>\n",
       "      <td>Manual</td>\n",
       "      <td>9083</td>\n",
       "      <td>Petrol</td>\n",
       "      <td>150</td>\n",
       "      <td>57.7</td>\n",
       "      <td>1.0</td>\n",
       "    </tr>\n",
       "    <tr>\n",
       "      <th>2</th>\n",
       "      <td>Focus</td>\n",
       "      <td>2017</td>\n",
       "      <td>13000</td>\n",
       "      <td>Manual</td>\n",
       "      <td>12456</td>\n",
       "      <td>Petrol</td>\n",
       "      <td>150</td>\n",
       "      <td>57.7</td>\n",
       "      <td>1.0</td>\n",
       "    </tr>\n",
       "    <tr>\n",
       "      <th>3</th>\n",
       "      <td>Fiesta</td>\n",
       "      <td>2019</td>\n",
       "      <td>17500</td>\n",
       "      <td>Manual</td>\n",
       "      <td>10460</td>\n",
       "      <td>Petrol</td>\n",
       "      <td>145</td>\n",
       "      <td>40.3</td>\n",
       "      <td>1.5</td>\n",
       "    </tr>\n",
       "    <tr>\n",
       "      <th>4</th>\n",
       "      <td>Fiesta</td>\n",
       "      <td>2019</td>\n",
       "      <td>16500</td>\n",
       "      <td>Automatic</td>\n",
       "      <td>1482</td>\n",
       "      <td>Petrol</td>\n",
       "      <td>145</td>\n",
       "      <td>48.7</td>\n",
       "      <td>1.0</td>\n",
       "    </tr>\n",
       "  </tbody>\n",
       "</table>\n",
       "</div>"
      ],
      "text/plain": [
       "     model  year  price transmission  mileage fuelType  tax   mpg  engineSize\n",
       "0   Fiesta  2017  12000    Automatic    15944   Petrol  150  57.7         1.0\n",
       "1    Focus  2018  14000       Manual     9083   Petrol  150  57.7         1.0\n",
       "2    Focus  2017  13000       Manual    12456   Petrol  150  57.7         1.0\n",
       "3   Fiesta  2019  17500       Manual    10460   Petrol  145  40.3         1.5\n",
       "4   Fiesta  2019  16500    Automatic     1482   Petrol  145  48.7         1.0"
      ]
     },
     "execution_count": 4,
     "metadata": {},
     "output_type": "execute_result"
    }
   ],
   "source": [
    "df.head()"
   ]
  },
  {
   "cell_type": "code",
   "execution_count": 5,
   "id": "11f28974",
   "metadata": {
    "execution": {
     "iopub.execute_input": "2025-08-25T06:23:32.787201Z",
     "iopub.status.busy": "2025-08-25T06:23:32.786886Z",
     "iopub.status.idle": "2025-08-25T06:23:32.793223Z",
     "shell.execute_reply": "2025-08-25T06:23:32.792025Z"
    },
    "papermill": {
     "duration": 0.012306,
     "end_time": "2025-08-25T06:23:32.795148",
     "exception": false,
     "start_time": "2025-08-25T06:23:32.782842",
     "status": "completed"
    },
    "tags": []
   },
   "outputs": [
    {
     "data": {
      "text/plain": [
       "(17966, 9)"
      ]
     },
     "execution_count": 5,
     "metadata": {},
     "output_type": "execute_result"
    }
   ],
   "source": [
    "df.shape"
   ]
  },
  {
   "cell_type": "code",
   "execution_count": 6,
   "id": "1a69753d",
   "metadata": {
    "execution": {
     "iopub.execute_input": "2025-08-25T06:23:32.803745Z",
     "iopub.status.busy": "2025-08-25T06:23:32.803427Z",
     "iopub.status.idle": "2025-08-25T06:23:32.832612Z",
     "shell.execute_reply": "2025-08-25T06:23:32.831227Z"
    },
    "papermill": {
     "duration": 0.035753,
     "end_time": "2025-08-25T06:23:32.834526",
     "exception": false,
     "start_time": "2025-08-25T06:23:32.798773",
     "status": "completed"
    },
    "tags": []
   },
   "outputs": [
    {
     "name": "stdout",
     "output_type": "stream",
     "text": [
      "<class 'pandas.core.frame.DataFrame'>\n",
      "RangeIndex: 17966 entries, 0 to 17965\n",
      "Data columns (total 9 columns):\n",
      " #   Column        Non-Null Count  Dtype  \n",
      "---  ------        --------------  -----  \n",
      " 0   model         17966 non-null  object \n",
      " 1   year          17966 non-null  int64  \n",
      " 2   price         17966 non-null  int64  \n",
      " 3   transmission  17966 non-null  object \n",
      " 4   mileage       17966 non-null  int64  \n",
      " 5   fuelType      17966 non-null  object \n",
      " 6   tax           17966 non-null  int64  \n",
      " 7   mpg           17966 non-null  float64\n",
      " 8   engineSize    17966 non-null  float64\n",
      "dtypes: float64(2), int64(4), object(3)\n",
      "memory usage: 1.2+ MB\n"
     ]
    }
   ],
   "source": [
    "df.info()"
   ]
  },
  {
   "cell_type": "code",
   "execution_count": 7,
   "id": "4ca3d7ca",
   "metadata": {
    "execution": {
     "iopub.execute_input": "2025-08-25T06:23:32.842880Z",
     "iopub.status.busy": "2025-08-25T06:23:32.842204Z",
     "iopub.status.idle": "2025-08-25T06:23:32.876370Z",
     "shell.execute_reply": "2025-08-25T06:23:32.875497Z"
    },
    "papermill": {
     "duration": 0.040063,
     "end_time": "2025-08-25T06:23:32.878160",
     "exception": false,
     "start_time": "2025-08-25T06:23:32.838097",
     "status": "completed"
    },
    "tags": []
   },
   "outputs": [
    {
     "data": {
      "text/html": [
       "<div>\n",
       "<style scoped>\n",
       "    .dataframe tbody tr th:only-of-type {\n",
       "        vertical-align: middle;\n",
       "    }\n",
       "\n",
       "    .dataframe tbody tr th {\n",
       "        vertical-align: top;\n",
       "    }\n",
       "\n",
       "    .dataframe thead th {\n",
       "        text-align: right;\n",
       "    }\n",
       "</style>\n",
       "<table border=\"1\" class=\"dataframe\">\n",
       "  <thead>\n",
       "    <tr style=\"text-align: right;\">\n",
       "      <th></th>\n",
       "      <th>year</th>\n",
       "      <th>price</th>\n",
       "      <th>mileage</th>\n",
       "      <th>tax</th>\n",
       "      <th>mpg</th>\n",
       "      <th>engineSize</th>\n",
       "    </tr>\n",
       "  </thead>\n",
       "  <tbody>\n",
       "    <tr>\n",
       "      <th>count</th>\n",
       "      <td>17966.000000</td>\n",
       "      <td>17966.000000</td>\n",
       "      <td>17966.000000</td>\n",
       "      <td>17966.000000</td>\n",
       "      <td>17966.000000</td>\n",
       "      <td>17966.000000</td>\n",
       "    </tr>\n",
       "    <tr>\n",
       "      <th>mean</th>\n",
       "      <td>2016.866470</td>\n",
       "      <td>12279.534844</td>\n",
       "      <td>23362.608761</td>\n",
       "      <td>113.329456</td>\n",
       "      <td>57.906980</td>\n",
       "      <td>1.350807</td>\n",
       "    </tr>\n",
       "    <tr>\n",
       "      <th>std</th>\n",
       "      <td>2.050336</td>\n",
       "      <td>4741.343657</td>\n",
       "      <td>19472.054349</td>\n",
       "      <td>62.012456</td>\n",
       "      <td>10.125696</td>\n",
       "      <td>0.432367</td>\n",
       "    </tr>\n",
       "    <tr>\n",
       "      <th>min</th>\n",
       "      <td>1996.000000</td>\n",
       "      <td>495.000000</td>\n",
       "      <td>1.000000</td>\n",
       "      <td>0.000000</td>\n",
       "      <td>20.800000</td>\n",
       "      <td>0.000000</td>\n",
       "    </tr>\n",
       "    <tr>\n",
       "      <th>25%</th>\n",
       "      <td>2016.000000</td>\n",
       "      <td>8999.000000</td>\n",
       "      <td>9987.000000</td>\n",
       "      <td>30.000000</td>\n",
       "      <td>52.300000</td>\n",
       "      <td>1.000000</td>\n",
       "    </tr>\n",
       "    <tr>\n",
       "      <th>50%</th>\n",
       "      <td>2017.000000</td>\n",
       "      <td>11291.000000</td>\n",
       "      <td>18242.500000</td>\n",
       "      <td>145.000000</td>\n",
       "      <td>58.900000</td>\n",
       "      <td>1.200000</td>\n",
       "    </tr>\n",
       "    <tr>\n",
       "      <th>75%</th>\n",
       "      <td>2018.000000</td>\n",
       "      <td>15299.000000</td>\n",
       "      <td>31060.000000</td>\n",
       "      <td>145.000000</td>\n",
       "      <td>65.700000</td>\n",
       "      <td>1.500000</td>\n",
       "    </tr>\n",
       "    <tr>\n",
       "      <th>max</th>\n",
       "      <td>2060.000000</td>\n",
       "      <td>54995.000000</td>\n",
       "      <td>177644.000000</td>\n",
       "      <td>580.000000</td>\n",
       "      <td>201.800000</td>\n",
       "      <td>5.000000</td>\n",
       "    </tr>\n",
       "  </tbody>\n",
       "</table>\n",
       "</div>"
      ],
      "text/plain": [
       "               year         price        mileage           tax           mpg  \\\n",
       "count  17966.000000  17966.000000   17966.000000  17966.000000  17966.000000   \n",
       "mean    2016.866470  12279.534844   23362.608761    113.329456     57.906980   \n",
       "std        2.050336   4741.343657   19472.054349     62.012456     10.125696   \n",
       "min     1996.000000    495.000000       1.000000      0.000000     20.800000   \n",
       "25%     2016.000000   8999.000000    9987.000000     30.000000     52.300000   \n",
       "50%     2017.000000  11291.000000   18242.500000    145.000000     58.900000   \n",
       "75%     2018.000000  15299.000000   31060.000000    145.000000     65.700000   \n",
       "max     2060.000000  54995.000000  177644.000000    580.000000    201.800000   \n",
       "\n",
       "         engineSize  \n",
       "count  17966.000000  \n",
       "mean       1.350807  \n",
       "std        0.432367  \n",
       "min        0.000000  \n",
       "25%        1.000000  \n",
       "50%        1.200000  \n",
       "75%        1.500000  \n",
       "max        5.000000  "
      ]
     },
     "execution_count": 7,
     "metadata": {},
     "output_type": "execute_result"
    }
   ],
   "source": [
    "df.describe()"
   ]
  },
  {
   "cell_type": "code",
   "execution_count": 8,
   "id": "4b8b0f45",
   "metadata": {
    "execution": {
     "iopub.execute_input": "2025-08-25T06:23:32.887698Z",
     "iopub.status.busy": "2025-08-25T06:23:32.887379Z",
     "iopub.status.idle": "2025-08-25T06:23:32.898198Z",
     "shell.execute_reply": "2025-08-25T06:23:32.897217Z"
    },
    "papermill": {
     "duration": 0.017693,
     "end_time": "2025-08-25T06:23:32.899890",
     "exception": false,
     "start_time": "2025-08-25T06:23:32.882197",
     "status": "completed"
    },
    "tags": []
   },
   "outputs": [
    {
     "data": {
      "text/plain": [
       "model           0\n",
       "year            0\n",
       "price           0\n",
       "transmission    0\n",
       "mileage         0\n",
       "fuelType        0\n",
       "tax             0\n",
       "mpg             0\n",
       "engineSize      0\n",
       "dtype: int64"
      ]
     },
     "execution_count": 8,
     "metadata": {},
     "output_type": "execute_result"
    }
   ],
   "source": [
    "df.isnull().sum()"
   ]
  },
  {
   "cell_type": "code",
   "execution_count": 9,
   "id": "108bd0bc",
   "metadata": {
    "execution": {
     "iopub.execute_input": "2025-08-25T06:23:32.909012Z",
     "iopub.status.busy": "2025-08-25T06:23:32.908184Z",
     "iopub.status.idle": "2025-08-25T06:23:33.526974Z",
     "shell.execute_reply": "2025-08-25T06:23:33.525889Z"
    },
    "papermill": {
     "duration": 0.625167,
     "end_time": "2025-08-25T06:23:33.528819",
     "exception": false,
     "start_time": "2025-08-25T06:23:32.903652",
     "status": "completed"
    },
    "tags": []
   },
   "outputs": [
    {
     "data": {
      "text/plain": [
       "<Axes: xlabel='price', ylabel='Count'>"
      ]
     },
     "execution_count": 9,
     "metadata": {},
     "output_type": "execute_result"
    },
    {
     "data": {
      "image/png": "[encoded data removed]",
      "text/plain": [
       "<Figure size 640x480 with 1 Axes>"
      ]
     },
     "metadata": {},
     "output_type": "display_data"
    }
   ],
   "source": [
    "#EDA \n",
    "\n",
    "sns.histplot(df['price'],bins = 50,kde = True)"
   ]
  },
  {
   "cell_type": "code",
   "execution_count": 10,
   "id": "dafe0fdb",
   "metadata": {
    "execution": {
     "iopub.execute_input": "2025-08-25T06:23:33.539783Z",
     "iopub.status.busy": "2025-08-25T06:23:33.538847Z",
     "iopub.status.idle": "2025-08-25T06:23:33.555937Z",
     "shell.execute_reply": "2025-08-25T06:23:33.555029Z"
    },
    "papermill": {
     "duration": 0.024467,
     "end_time": "2025-08-25T06:23:33.557536",
     "exception": false,
     "start_time": "2025-08-25T06:23:33.533069",
     "status": "completed"
    },
    "tags": []
   },
   "outputs": [
    {
     "data": {
      "text/html": [
       "<div>\n",
       "<style scoped>\n",
       "    .dataframe tbody tr th:only-of-type {\n",
       "        vertical-align: middle;\n",
       "    }\n",
       "\n",
       "    .dataframe tbody tr th {\n",
       "        vertical-align: top;\n",
       "    }\n",
       "\n",
       "    .dataframe thead th {\n",
       "        text-align: right;\n",
       "    }\n",
       "</style>\n",
       "<table border=\"1\" class=\"dataframe\">\n",
       "  <thead>\n",
       "    <tr style=\"text-align: right;\">\n",
       "      <th></th>\n",
       "      <th>year</th>\n",
       "      <th>price</th>\n",
       "      <th>mileage</th>\n",
       "      <th>tax</th>\n",
       "      <th>mpg</th>\n",
       "      <th>engineSize</th>\n",
       "    </tr>\n",
       "  </thead>\n",
       "  <tbody>\n",
       "    <tr>\n",
       "      <th>year</th>\n",
       "      <td>1.000000</td>\n",
       "      <td>0.636009</td>\n",
       "      <td>-0.707818</td>\n",
       "      <td>0.298506</td>\n",
       "      <td>-0.022967</td>\n",
       "      <td>-0.137311</td>\n",
       "    </tr>\n",
       "    <tr>\n",
       "      <th>price</th>\n",
       "      <td>0.636009</td>\n",
       "      <td>1.000000</td>\n",
       "      <td>-0.530659</td>\n",
       "      <td>0.406857</td>\n",
       "      <td>-0.346419</td>\n",
       "      <td>0.411178</td>\n",
       "    </tr>\n",
       "    <tr>\n",
       "      <th>mileage</th>\n",
       "      <td>-0.707818</td>\n",
       "      <td>-0.530659</td>\n",
       "      <td>1.000000</td>\n",
       "      <td>-0.260451</td>\n",
       "      <td>0.120075</td>\n",
       "      <td>0.215035</td>\n",
       "    </tr>\n",
       "    <tr>\n",
       "      <th>tax</th>\n",
       "      <td>0.298506</td>\n",
       "      <td>0.406857</td>\n",
       "      <td>-0.260451</td>\n",
       "      <td>1.000000</td>\n",
       "      <td>-0.502980</td>\n",
       "      <td>0.184363</td>\n",
       "    </tr>\n",
       "    <tr>\n",
       "      <th>mpg</th>\n",
       "      <td>-0.022967</td>\n",
       "      <td>-0.346419</td>\n",
       "      <td>0.120075</td>\n",
       "      <td>-0.502980</td>\n",
       "      <td>1.000000</td>\n",
       "      <td>-0.260521</td>\n",
       "    </tr>\n",
       "    <tr>\n",
       "      <th>engineSize</th>\n",
       "      <td>-0.137311</td>\n",
       "      <td>0.411178</td>\n",
       "      <td>0.215035</td>\n",
       "      <td>0.184363</td>\n",
       "      <td>-0.260521</td>\n",
       "      <td>1.000000</td>\n",
       "    </tr>\n",
       "  </tbody>\n",
       "</table>\n",
       "</div>"
      ],
      "text/plain": [
       "                year     price   mileage       tax       mpg  engineSize\n",
       "year        1.000000  0.636009 -0.707818  0.298506 -0.022967   -0.137311\n",
       "price       0.636009  1.000000 -0.530659  0.406857 -0.346419    0.411178\n",
       "mileage    -0.707818 -0.530659  1.000000 -0.260451  0.120075    0.215035\n",
       "tax         0.298506  0.406857 -0.260451  1.000000 -0.502980    0.184363\n",
       "mpg        -0.022967 -0.346419  0.120075 -0.502980  1.000000   -0.260521\n",
       "engineSize -0.137311  0.411178  0.215035  0.184363 -0.260521    1.000000"
      ]
     },
     "execution_count": 10,
     "metadata": {},
     "output_type": "execute_result"
    }
   ],
   "source": [
    "df.corr(numeric_only = True)"
   ]
  },
  {
   "cell_type": "code",
   "execution_count": 11,
   "id": "008b2c9e",
   "metadata": {
    "execution": {
     "iopub.execute_input": "2025-08-25T06:23:33.567848Z",
     "iopub.status.busy": "2025-08-25T06:23:33.567479Z",
     "iopub.status.idle": "2025-08-25T06:23:33.895483Z",
     "shell.execute_reply": "2025-08-25T06:23:33.894564Z"
    },
    "papermill": {
     "duration": 0.335624,
     "end_time": "2025-08-25T06:23:33.897599",
     "exception": false,
     "start_time": "2025-08-25T06:23:33.561975",
     "status": "completed"
    },
    "tags": []
   },
   "outputs": [
    {
     "data": {
      "text/plain": [
       "<Axes: >"
      ]
     },
     "execution_count": 11,
     "metadata": {},
     "output_type": "execute_result"
    },
    {
     "data": {
      "image/png": "[encoded data removed]",
      "text/plain": [
       "<Figure size 640x480 with 2 Axes>"
      ]
     },
     "metadata": {},
     "output_type": "display_data"
    }
   ],
   "source": [
    "sns.heatmap(df.corr(numeric_only = True) ,annot = True)"
   ]
  },
  {
   "cell_type": "code",
   "execution_count": null,
   "id": "4a0a486b",
   "metadata": {
    "papermill": {
     "duration": 0.005408,
     "end_time": "2025-08-25T06:23:33.908339",
     "exception": false,
     "start_time": "2025-08-25T06:23:33.902931",
     "status": "completed"
    },
    "tags": []
   },
   "outputs": [],
   "source": []
  }
 ],
 "metadata": {
  "kaggle": {
   "accelerator": "none",
   "dataSources": [
    {
     "datasetId": 2073626,
     "sourceId": 3442322,
     "sourceType": "datasetVersion"
    }
   ],
   "dockerImageVersionId": 31089,
   "isGpuEnabled": false,
   "isInternetEnabled": true,
   "language": "python",
   "sourceType": "notebook"
  },
  "kernelspec": {
   "display_name": "Python 3",
   "language": "python",
   "name": "python3"
  },
  "language_info": {
   "codemirror_mode": {
    "name": "ipython",
    "version": 3
   },
   "file_extension": ".py",
   "mimetype": "text/x-python",
   "name": "python",
   "nbconvert_exporter": "python",
   "pygments_lexer": "ipython3",
   "version": "3.11.13"
  },
  "papermill": {
   "default_parameters": {},
   "duration": 12.188034,
   "end_time": "2025-08-25T06:23:34.634587",
   "environment_variables": {},
   "exception": null,
   "input_path": "__notebook__.ipynb",
   "output_path": "__notebook__.ipynb",
   "parameters": {},
   "start_time": "2025-08-25T06:23:22.446553",
   "version": "2.6.0"
  }
 },
 "nbformat": 4,
 "nbformat_minor": 5
}
